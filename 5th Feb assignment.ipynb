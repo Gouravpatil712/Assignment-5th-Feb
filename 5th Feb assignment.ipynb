{
 "cells": [
  {
   "cell_type": "markdown",
   "id": "bd9fcb99-7474-4825-989b-8fd734f263ff",
   "metadata": {},
   "source": [
    "## Question 01 - Explain Class and Object with respect to Object-Oriented Programming. Give a suitable example."
   ]
  },
  {
   "cell_type": "code",
   "execution_count": 5,
   "id": "ba55c039-a329-44b6-a49c-9437cb3ec2c9",
   "metadata": {},
   "outputs": [],
   "source": [
    "# Answer :-\n",
    "\n",
    "# Define a class named 'Car'\n",
    "\n",
    "class Car:\n",
    "    def __init__(self, make, model, year):\n",
    "        self.make = make\n",
    "        self.model = model\n",
    "        self.year = year\n",
    "\n"
   ]
  },
  {
   "cell_type": "code",
   "execution_count": 6,
   "id": "6c2c474f-230d-49de-bf30-f70de1c35313",
   "metadata": {},
   "outputs": [],
   "source": [
    "# Create an object of the class 'Car'\n",
    "my_car = Car(\"Toyota\", \"Camry\", 2022)"
   ]
  },
  {
   "cell_type": "code",
   "execution_count": 7,
   "id": "1cd77128-3139-42b5-9cd6-367596196c74",
   "metadata": {},
   "outputs": [
    {
     "data": {
      "text/plain": [
       "'Toyota'"
      ]
     },
     "execution_count": 7,
     "metadata": {},
     "output_type": "execute_result"
    }
   ],
   "source": [
    "# Access the attributes of the object\n",
    "my_car.make # Output: Toyota"
   ]
  },
  {
   "cell_type": "code",
   "execution_count": 8,
   "id": "63ebc4f2-93f2-4ea6-aed7-873a05e6f659",
   "metadata": {},
   "outputs": [
    {
     "data": {
      "text/plain": [
       "'Camry'"
      ]
     },
     "execution_count": 8,
     "metadata": {},
     "output_type": "execute_result"
    }
   ],
   "source": [
    "my_car.model  # Output: Camry"
   ]
  },
  {
   "cell_type": "code",
   "execution_count": 9,
   "id": "df7186c3-30db-4a40-9907-95c6b56edc33",
   "metadata": {},
   "outputs": [
    {
     "data": {
      "text/plain": [
       "2022"
      ]
     },
     "execution_count": 9,
     "metadata": {},
     "output_type": "execute_result"
    }
   ],
   "source": [
    "my_car.year # Output: 2022"
   ]
  },
  {
   "cell_type": "markdown",
   "id": "d2bea262-e105-441b-8ef3-86d587ab9d0c",
   "metadata": {},
   "source": [
    "## Question 02 - Name the four pillars of OOPs."
   ]
  },
  {
   "cell_type": "markdown",
   "id": "c6eb5ff8-b5d4-499a-938e-672f8210c0bd",
   "metadata": {},
   "source": [
    "# Answer :- \n",
    "\n",
    "The four pillars of Object-Oriented Programming (OOP) are:\n",
    "\n",
    "Abstraction: It refers to the ability to focus on essential features of an object and ignore the non-essential details. Abstraction allows you to model real-world objects and simplify complex systems by hiding their underlying implementation details.\n",
    "\n",
    "Encapsulation: It is the practice of combining data and functions that operate on that data within a single unit, or object. Encapsulation helps to protect the data from outside access or modification and provides a secure and controlled way of accessing the data.\n",
    "\n",
    "Inheritance: It is a mechanism that allows you to define a new class based on an existing class, inheriting its attributes and methods. Inheritance provides a way to create a hierarchy of classes that are related by common attributes and behaviors.\n",
    "\n",
    "Polymorphism: It is the ability of a single function or operator to have different forms or behaviors depending on the type of data being operated upon. Polymorphism allows you to create functions or operators that can work with different data types in a flexible and generic way.\n",
    "\n",
    "These four pillars provide the foundation for creating robust and maintainable object-oriented software. By using these principles, you can create modular, reusable, and scalable code that is easy to understand, maintain, and extend.\n",
    "\n",
    "\n",
    "\n",
    "\n"
   ]
  },
  {
   "cell_type": "markdown",
   "id": "21489e2b-ff21-46f0-9a03-63323aef198c",
   "metadata": {},
   "source": [
    "## Question 03 - Explain why the __init__() function is used. Give a suitable example."
   ]
  },
  {
   "cell_type": "code",
   "execution_count": 10,
   "id": "2fae173c-881e-4010-a92c-a101f707fe87",
   "metadata": {},
   "outputs": [
    {
     "data": {
      "text/plain": [
       "'The __init__ function in Python is a special method that is automatically called when an object of a class is created.\\nIt is used to initialize the attributes of the class and set their default values\\n. The __init__ function is also known as the constructor of the class.'"
      ]
     },
     "execution_count": 10,
     "metadata": {},
     "output_type": "execute_result"
    }
   ],
   "source": [
    "# Answer :- \n",
    "\n",
    "'''The __init__ function in Python is a special method that is automatically called when an object of a class is created.\n",
    "It is used to initialize the attributes of the class and set their default values\n",
    ". The __init__ function is also known as the constructor of the class.'''\n",
    "\n"
   ]
  },
  {
   "cell_type": "code",
   "execution_count": 14,
   "id": "5722b207-f68d-4893-be05-61fd14da8a9d",
   "metadata": {},
   "outputs": [],
   "source": [
    "# Define a class named 'Person'\n",
    "\n",
    "class Person:\n",
    "    def __init__(self, first_name, last_name, age):\n",
    "        self.first_name = first_name\n",
    "        self.last_name = last_name\n",
    "        self.age = age\n"
   ]
  },
  {
   "cell_type": "code",
   "execution_count": 15,
   "id": "1d860967-0be2-492e-90fe-9942a77e4db5",
   "metadata": {},
   "outputs": [],
   "source": [
    "# Create an object of the class 'Person'\n",
    "person1 = Person('Gourav', 'Patil', 23)"
   ]
  },
  {
   "cell_type": "code",
   "execution_count": 16,
   "id": "ea800352-29e1-4618-815e-2a7518a136d1",
   "metadata": {},
   "outputs": [
    {
     "data": {
      "text/plain": [
       "'Gourav'"
      ]
     },
     "execution_count": 16,
     "metadata": {},
     "output_type": "execute_result"
    }
   ],
   "source": [
    "person1.first_name # Output : Gourav"
   ]
  },
  {
   "cell_type": "code",
   "execution_count": 17,
   "id": "48114e00-c009-4ddf-a4ce-c715bf2466ef",
   "metadata": {},
   "outputs": [
    {
     "data": {
      "text/plain": [
       "'Patil'"
      ]
     },
     "execution_count": 17,
     "metadata": {},
     "output_type": "execute_result"
    }
   ],
   "source": [
    "person1.last_name # Output : Patil"
   ]
  },
  {
   "cell_type": "code",
   "execution_count": 18,
   "id": "27dd80e6-8040-4f1a-b9b9-e3d13c4a9409",
   "metadata": {},
   "outputs": [
    {
     "data": {
      "text/plain": [
       "23"
      ]
     },
     "execution_count": 18,
     "metadata": {},
     "output_type": "execute_result"
    }
   ],
   "source": [
    "person1.age # Output : 23"
   ]
  },
  {
   "cell_type": "markdown",
   "id": "f0cbd8ee-4f80-43c8-b870-8da50655ba1f",
   "metadata": {},
   "source": [
    "## Question 04 - Why self is used in OOPs?"
   ]
  },
  {
   "cell_type": "markdown",
   "id": "7dbd3abb-fce5-4fe4-a05d-95af2f13d991",
   "metadata": {},
   "source": [
    "# Answer - \n",
    "In Object-Oriented Programming (OOP), self is a reference to the instance of the class.\n",
    "It is used to access and modify the attributes and methods of the class from within the class.\n",
    "The self keyword is automatically passed to every method in the class and it refers to the current instance of the class. \n",
    "By using self, you can access the attributes and methods of the class, and modify their values. \n",
    "This allows you to create multiple instances of the same class, each with its own unique attributes and behavior."
   ]
  },
  {
   "cell_type": "markdown",
   "id": "bc41e895-2f12-438c-99a4-9cb859b3b789",
   "metadata": {},
   "source": [
    "## Question 05 - What is inheritance? Give an example for each type of inheritance."
   ]
  },
  {
   "cell_type": "markdown",
   "id": "4dc04709-917f-4383-9440-0a393292500d",
   "metadata": {},
   "source": [
    "# Answer :-\n",
    "\n",
    "Inheritance is a fundamental concept in Object-Oriented Programming (OOP) that allows you to create new classes based on existing classes. \n",
    "When you create a new class based on an existing class, the new class inherits all of the attributes and behaviors of the existing class.\n",
    "This makes it easier to reuse code, reduce duplication, and add new functionality to your programs.\n"
   ]
  },
  {
   "cell_type": "code",
   "execution_count": 19,
   "id": "e5b1dbe6-0d7e-42ef-a823-557495c36614",
   "metadata": {},
   "outputs": [],
   "source": [
    "# simple inheritance\n",
    "\n",
    "class Animal:\n",
    "    def __init__(self, name, species):\n",
    "        self.name = name\n",
    "        self.species = species\n"
   ]
  },
  {
   "cell_type": "code",
   "execution_count": 20,
   "id": "624747a4-ec5d-444f-9abf-f9b1decc21d8",
   "metadata": {},
   "outputs": [],
   "source": [
    "class Dog(Animal):\n",
    "    def make_sound(self):\n",
    "        print(\"Woof!\")\n"
   ]
  },
  {
   "cell_type": "code",
   "execution_count": 22,
   "id": "549787b1-0960-4daa-8b81-3afd84638444",
   "metadata": {},
   "outputs": [],
   "source": [
    "my_dog = Dog('Tom', 'Labrador')"
   ]
  },
  {
   "cell_type": "code",
   "execution_count": 23,
   "id": "9afde50f-a5ab-471c-85ef-fa1df143a060",
   "metadata": {},
   "outputs": [
    {
     "data": {
      "text/plain": [
       "'Tom'"
      ]
     },
     "execution_count": 23,
     "metadata": {},
     "output_type": "execute_result"
    }
   ],
   "source": [
    "my_dog.name"
   ]
  },
  {
   "cell_type": "code",
   "execution_count": 24,
   "id": "32e133e0-5d30-4833-8d7d-7596426cef1e",
   "metadata": {},
   "outputs": [
    {
     "data": {
      "text/plain": [
       "'Labrador'"
      ]
     },
     "execution_count": 24,
     "metadata": {},
     "output_type": "execute_result"
    }
   ],
   "source": [
    "my_dog.species"
   ]
  },
  {
   "cell_type": "code",
   "execution_count": 26,
   "id": "4492dce9-c532-44cf-bdf2-a51dcaca2fa3",
   "metadata": {},
   "outputs": [
    {
     "name": "stdout",
     "output_type": "stream",
     "text": [
      "Woof!\n"
     ]
    }
   ],
   "source": [
    "my_dog.make_sound()"
   ]
  },
  {
   "cell_type": "code",
   "execution_count": 28,
   "id": "3c2b7fe1-83b9-41b5-8c8b-2aa8982c241d",
   "metadata": {},
   "outputs": [],
   "source": [
    "# multi label inheritance\n",
    "\n",
    "class student :\n",
    "    def student_details(self, student_name, student_id):\n",
    "        self.student_name = student_name\n",
    "        self.student_id = student_id"
   ]
  },
  {
   "cell_type": "code",
   "execution_count": 29,
   "id": "19580f27-3095-447a-a385-6994d0d26cd0",
   "metadata": {},
   "outputs": [],
   "source": [
    "class course(student):\n",
    "    def course_details(self, course_name, course_fees):\n",
    "        self.course_name = course_name\n",
    "        self.course_fees = course_fees"
   ]
  },
  {
   "cell_type": "code",
   "execution_count": 30,
   "id": "3f31017f-5c92-495d-9973-150b8fcd1c20",
   "metadata": {},
   "outputs": [],
   "source": [
    "class batch(course):\n",
    "    pass"
   ]
  },
  {
   "cell_type": "code",
   "execution_count": 31,
   "id": "bb7a157b-da80-4bad-a64e-3a90f9b4497f",
   "metadata": {},
   "outputs": [],
   "source": [
    "pwskills = batch()"
   ]
  },
  {
   "cell_type": "code",
   "execution_count": 34,
   "id": "1a2bc374-e18e-4b50-a874-9c39b5af9e51",
   "metadata": {},
   "outputs": [],
   "source": [
    "pwskills.student_details('Gourav', 123)"
   ]
  },
  {
   "cell_type": "code",
   "execution_count": 36,
   "id": "08bc1f16-0204-4358-af92-d5ff2c4455e6",
   "metadata": {},
   "outputs": [],
   "source": [
    "pwskills.course_details('data science', 3500)"
   ]
  },
  {
   "cell_type": "code",
   "execution_count": 37,
   "id": "0bfece0d-e727-49c8-866d-a05cb45ddc35",
   "metadata": {},
   "outputs": [
    {
     "data": {
      "text/plain": [
       "'Gourav'"
      ]
     },
     "execution_count": 37,
     "metadata": {},
     "output_type": "execute_result"
    }
   ],
   "source": [
    "pwskills.student_name"
   ]
  },
  {
   "cell_type": "code",
   "execution_count": 38,
   "id": "19ee6683-4ba4-4e29-a1af-607a71b66c80",
   "metadata": {},
   "outputs": [
    {
     "data": {
      "text/plain": [
       "123"
      ]
     },
     "execution_count": 38,
     "metadata": {},
     "output_type": "execute_result"
    }
   ],
   "source": [
    "pwskills.student_id"
   ]
  },
  {
   "cell_type": "code",
   "execution_count": 39,
   "id": "2c6ed4c6-8ea5-4a77-86d2-b3f1823ee6d2",
   "metadata": {},
   "outputs": [
    {
     "data": {
      "text/plain": [
       "'data science'"
      ]
     },
     "execution_count": 39,
     "metadata": {},
     "output_type": "execute_result"
    }
   ],
   "source": [
    "pwskills.course_name"
   ]
  },
  {
   "cell_type": "code",
   "execution_count": 40,
   "id": "adc2d8b1-71a5-4ce3-8b86-2364bbe8d05b",
   "metadata": {},
   "outputs": [
    {
     "data": {
      "text/plain": [
       "3500"
      ]
     },
     "execution_count": 40,
     "metadata": {},
     "output_type": "execute_result"
    }
   ],
   "source": [
    "pwskills.course_fees"
   ]
  },
  {
   "cell_type": "code",
   "execution_count": 59,
   "id": "20fda447-7eb9-4fc1-9f0f-c102646c7c1a",
   "metadata": {},
   "outputs": [],
   "source": [
    "# multiple inheritence\n",
    "\n",
    "class Shape:\n",
    "    def square(self):\n",
    "        return 'The square has 4 sides'"
   ]
  },
  {
   "cell_type": "code",
   "execution_count": 60,
   "id": "34e78237-0d4f-4672-baef-b7c3cb2c9a1a",
   "metadata": {},
   "outputs": [],
   "source": [
    "class Color:\n",
    "    def red(self):\n",
    "        return('The square has the red colour')"
   ]
  },
  {
   "cell_type": "code",
   "execution_count": 62,
   "id": "1f590aa1-a816-46b8-b646-f9375cf3d55c",
   "metadata": {},
   "outputs": [],
   "source": [
    "class objects(Shape, Color):\n",
    "    pass"
   ]
  },
  {
   "cell_type": "code",
   "execution_count": 63,
   "id": "977d8c7c-5a14-4a7b-9a31-d7e68ea3a749",
   "metadata": {},
   "outputs": [],
   "source": [
    "square = Square()"
   ]
  },
  {
   "cell_type": "code",
   "execution_count": 67,
   "id": "8e00406b-cefd-41f3-96ca-619c58ac4295",
   "metadata": {},
   "outputs": [
    {
     "data": {
      "text/plain": [
       "'The square has 4 sides'"
      ]
     },
     "execution_count": 67,
     "metadata": {},
     "output_type": "execute_result"
    }
   ],
   "source": [
    "square.square()"
   ]
  },
  {
   "cell_type": "code",
   "execution_count": null,
   "id": "15f838a5-b643-4434-8fb2-774ac55e9bde",
   "metadata": {},
   "outputs": [],
   "source": [
    "square"
   ]
  }
 ],
 "metadata": {
  "kernelspec": {
   "display_name": "Python 3 (ipykernel)",
   "language": "python",
   "name": "python3"
  },
  "language_info": {
   "codemirror_mode": {
    "name": "ipython",
    "version": 3
   },
   "file_extension": ".py",
   "mimetype": "text/x-python",
   "name": "python",
   "nbconvert_exporter": "python",
   "pygments_lexer": "ipython3",
   "version": "3.10.8"
  }
 },
 "nbformat": 4,
 "nbformat_minor": 5
}
